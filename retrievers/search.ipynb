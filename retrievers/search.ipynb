{
 "cells": [
  {
   "cell_type": "markdown",
   "metadata": {},
   "source": [
    "## Scholarly API"
   ]
  },
  {
   "cell_type": "code",
   "execution_count": 1,
   "metadata": {},
   "outputs": [],
   "source": [
    "from scholarly import scholarly\n",
    "from scholarly import ProxyGenerator"
   ]
  },
  {
   "cell_type": "code",
   "execution_count": null,
   "metadata": {},
   "outputs": [],
   "source": [
    "# Set up a ProxyGenerator object to use free proxies\n",
    "# This needs to be done only once per session\n",
    "pg = ProxyGenerator()\n",
    "# success = pg.SingleProxy(http=\"127.0.0.1:7890\", https=\"127.0.0.1:7890\")\n",
    "# success = pg.FreeProxies()\n",
    "success = pg.ScraperAPI('bf1cc98c70f87938e6d69eca855ada77')\n",
    "print(success)\n",
    "scholarly.use_proxy(pg, pg)"
   ]
  },
  {
   "cell_type": "code",
   "execution_count": null,
   "metadata": {},
   "outputs": [],
   "source": [
    "# Retrieve the author's data, fill-in, and print\n",
    "# Get an iterator for the author results\n",
    "search_query = scholarly.search_author('Penghai Zhao')\n",
    "author = scholarly.fill(next(search_query))\n",
    "print(author)\n",
    "\n",
    "# Print the titles of the author's publications\n",
    "print([pub['bib']['title'] for pub in author['publications']])\n",
    "\n",
    "# Take a closer look at the first publication\n",
    "pub = scholarly.fill(author['publications'][0])\n",
    "print(pub)\n",
    "\n",
    "# Which papers cited that publication?\n",
    "citations = [citation['bib']['title'] for citation in scholarly.citedby(pub)]\n",
    "print(citations)"
   ]
  },
  {
   "cell_type": "code",
   "execution_count": null,
   "metadata": {},
   "outputs": [],
   "source": [
    "search_query = scholarly.search_pubs(\"Exploring graph pre-training for aspect-based sentiment analysis\")\n",
    "scholarly.pprint(next(search_query))\n",
    "\n",
    "# publication_filled = scholarly.fill(query)\n",
    "# citations = [citation['bib']['title'] for citation in scholarly.citedby(publication_filled)]\n",
    "# print(citations)"
   ]
  },
  {
   "cell_type": "markdown",
   "metadata": {},
   "source": [
    "Title query得到DOI（对应于crossref唯一的标识DOI"
   ]
  },
  {
   "cell_type": "code",
   "execution_count": 4,
   "metadata": {},
   "outputs": [],
   "source": [
    "import requests\n",
    "import json\n",
    "# from CACHE.cache_request import cached_get\n",
    " \n",
    "# 设置 API 请求 URL\n",
    "url = \"https://api.crossref.org/works\"\n",
    " \n",
    "# 设置查询参数\n",
    "params = {\n",
    "    \"query.bibliographic\": \"A survey on sentiment analysis of scientific citations\",\n",
    "    \"mailto\": \"1663653541@qq.com\",\n",
    "    # \"select\": \"DOI,title,author,URL\",\n",
    "    \"rows\": \"1\"\n",
    "}\n",
    " \n",
    "# 发送 GET 请求\n",
    "response = requests.get(url, params=params)\n",
    " \n",
    "# 检查响应状态码\n",
    "if response.status_code == 200:\n",
    "    data = response.json()\n",
    "    with open('title_query.json', 'w', encoding='utf-8') as f:\n",
    "        json.dump(data, f, ensure_ascii=False, indent=4)\n",
    "else:\n",
    "    print(f\"请求失败，状态码: {response.status_code}\")"
   ]
  },
  {
   "cell_type": "markdown",
   "metadata": {},
   "source": [
    "## OpenCitations (COCI) REST API\n"
   ]
  },
  {
   "cell_type": "code",
   "execution_count": 5,
   "metadata": {},
   "outputs": [],
   "source": [
    "doi = '10.1007/s10462-017-9597-8'\n",
    "\n",
    "API_CALL = f\"https://opencitations.net/api/v1/citations/{doi}\"\n",
    "HTTP_HEADERS = {\"authorization\": \"d3fd9c59-ab37-4c44-ae61-c0af33aea992\"}\n",
    "\n",
    "response = requests.get(API_CALL, headers=HTTP_HEADERS)\n",
    "\n",
    "# 检查响应状态码\n",
    "if response.status_code == 200:\n",
    "    data = response.json()\n",
    "    with open('COCI_output1.json', 'w', encoding='utf-8') as f:\n",
    "        json.dump(data, f, ensure_ascii=False, indent=4)\n",
    "else:\n",
    "    print(f\"请求失败，状态码: {response.status_code}\")"
   ]
  },
  {
   "cell_type": "code",
   "execution_count": 2,
   "metadata": {},
   "outputs": [
    {
     "name": "stderr",
     "output_type": "stream",
     "text": [
      "/home/gaof23/miniconda3/envs/ca/lib/python3.10/site-packages/tqdm/auto.py:21: TqdmWarning: IProgress not found. Please update jupyter and ipywidgets. See https://ipywidgets.readthedocs.io/en/stable/user_install.html\n",
      "  from .autonotebook import tqdm as notebook_tqdm\n"
     ]
    },
    {
     "ename": "NameError",
     "evalue": "name 'doi' is not defined",
     "output_type": "error",
     "traceback": [
      "\u001b[0;31m---------------------------------------------------------------------------\u001b[0m",
      "\u001b[0;31mNameError\u001b[0m                                 Traceback (most recent call last)",
      "Cell \u001b[0;32mIn[2], line 3\u001b[0m\n\u001b[1;32m      1\u001b[0m \u001b[38;5;28;01mfrom\u001b[39;00m\u001b[38;5;250m \u001b[39m\u001b[38;5;21;01mpaperfetcher\u001b[39;00m\u001b[38;5;250m \u001b[39m\u001b[38;5;28;01mimport\u001b[39;00m snowballsearch\n\u001b[0;32m----> 3\u001b[0m search \u001b[38;5;241m=\u001b[39m snowballsearch\u001b[38;5;241m.\u001b[39mCOCIForwardCitationSearch([\u001b[43mdoi\u001b[49m])\n\u001b[1;32m      4\u001b[0m search()\n\u001b[1;32m      5\u001b[0m doi_ds \u001b[38;5;241m=\u001b[39m search\u001b[38;5;241m.\u001b[39mget_DOIDataset()\n",
      "\u001b[0;31mNameError\u001b[0m: name 'doi' is not defined"
     ]
    }
   ],
   "source": [
    "from paperfetcher import snowballsearch\n",
    "\n",
    "search = snowballsearch.COCIForwardCitationSearch([doi])\n",
    "search()\n",
    "doi_ds = search.get_DOIDataset()\n",
    "doi_ds.save_txt(\"dois_file.txt\")\n",
    "doi_ds.to_df()\n",
    "\n",
    "# ris_ds = search.get_RISDataset()\n",
    "# ris_ds.save_ris(\"out/snowball_fwd.ris\")"
   ]
  },
  {
   "cell_type": "code",
   "execution_count": 1,
   "metadata": {},
   "outputs": [],
   "source": [
    "from semanticscholar import SemanticScholar\n",
    "sch = SemanticScholar(timeout=3)\n",
    "results = sch.get_paper_citations('10.1007/s10462-017-9597-8', fields=['title','year'], limit=5)\n",
    "for item in results:\n",
    "     print(item)"
   ]
  },
  {
   "cell_type": "code",
   "execution_count": 9,
   "metadata": {},
   "outputs": [
    {
     "data": {
      "text/plain": [
       "'10.48550/arXiv.2305.12954'"
      ]
     },
     "execution_count": 9,
     "metadata": {},
     "output_type": "execute_result"
    }
   ],
   "source": [
    "from semanticscholar import SemanticScholar\n",
    "sch = SemanticScholar()\n",
    "results = sch.search_paper('Is synthetic data from diffusion models ready for knowledge distillation?', fields=['year', 'externalIds'])\n",
    "\n",
    "results[0].externalIds['DOI']\n"
   ]
  }
 ],
 "metadata": {
  "kernelspec": {
   "display_name": "ca",
   "language": "python",
   "name": "python3"
  },
  "language_info": {
   "codemirror_mode": {
    "name": "ipython",
    "version": 3
   },
   "file_extension": ".py",
   "mimetype": "text/x-python",
   "name": "python",
   "nbconvert_exporter": "python",
   "pygments_lexer": "ipython3",
   "version": "3.10.14"
  }
 },
 "nbformat": 4,
 "nbformat_minor": 2
}
