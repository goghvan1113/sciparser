{
 "cells": [
  {
   "cell_type": "markdown",
   "metadata": {},
   "source": [
    "Title query得到DOI（对应于crossref唯一的标识DOI"
   ]
  },
  {
   "cell_type": "code",
   "execution_count": 4,
   "metadata": {},
   "outputs": [],
   "source": [
    "import requests\n",
    "import json\n",
    "# from CACHE.cache_request import cached_get\n",
    " \n",
    "# 设置 API 请求 URL\n",
    "url = \"https://api.crossref.org/works\"\n",
    " \n",
    "# 设置查询参数\n",
    "params = {\n",
    "    \"query.bibliographic\": \"A survey on sentiment analysis of scientific citations\",\n",
    "    \"mailto\": \"1663653541@qq.com\",\n",
    "    # \"select\": \"DOI,title,author,URL\",\n",
    "    \"rows\": \"1\"\n",
    "}\n",
    " \n",
    "# 发送 GET 请求\n",
    "response = requests.get(url, params=params)\n",
    " \n",
    "# 检查响应状态码\n",
    "if response.status_code == 200:\n",
    "    data = response.json()\n",
    "    with open('title_query.json', 'w', encoding='utf-8') as f:\n",
    "        json.dump(data, f, ensure_ascii=False, indent=4)\n",
    "else:\n",
    "    print(f\"请求失败，状态码: {response.status_code}\")"
   ]
  },
  {
   "cell_type": "markdown",
   "metadata": {},
   "source": [
    "## OpenCitations (COCI) REST API\n"
   ]
  },
  {
   "cell_type": "code",
   "execution_count": 5,
   "metadata": {},
   "outputs": [],
   "source": [
    "doi = '10.1007/s10462-017-9597-8'\n",
    "\n",
    "API_CALL = f\"https://opencitations.net/api/v1/citations/{doi}\"\n",
    "HTTP_HEADERS = {\"authorization\": \"d3fd9c59-ab37-4c44-ae61-c0af33aea992\"}\n",
    "\n",
    "response = requests.get(API_CALL, headers=HTTP_HEADERS)\n",
    "\n",
    "# 检查响应状态码\n",
    "if response.status_code == 200:\n",
    "    data = response.json()\n",
    "    with open('COCI_output1.json', 'w', encoding='utf-8') as f:\n",
    "        json.dump(data, f, ensure_ascii=False, indent=4)\n",
    "else:\n",
    "    print(f\"请求失败，状态码: {response.status_code}\")"
   ]
  },
  {
   "cell_type": "code",
   "execution_count": null,
   "metadata": {},
   "outputs": [],
   "source": [
    "from paperfetcher import snowballsearch\n",
    "\n",
    "search = snowballsearch.COCIForwardCitationSearch([doi])\n",
    "search()\n",
    "doi_ds = search.get_DOIDataset()\n",
    "doi_ds.save_txt(\"dois_file.txt\")\n",
    "doi_ds.to_df()\n",
    "\n",
    "# ris_ds = search.get_RISDataset()\n",
    "# ris_ds.save_ris(\"out/snowball_fwd.ris\")"
   ]
  },
  {
   "cell_type": "code",
   "execution_count": null,
   "metadata": {},
   "outputs": [],
   "source": [
    "from semanticscholar import SemanticScholar\n",
    "sch = SemanticScholar()\n",
    "results = sch.search_author('Alan M. Turing')\n",
    "print(f'{results.total} results.', f'First occurrence: {results[0].name}.')"
   ]
  }
 ],
 "metadata": {
  "kernelspec": {
   "display_name": "ca",
   "language": "python",
   "name": "python3"
  },
  "language_info": {
   "codemirror_mode": {
    "name": "ipython",
    "version": 3
   },
   "file_extension": ".py",
   "mimetype": "text/x-python",
   "name": "python",
   "nbconvert_exporter": "python",
   "pygments_lexer": "ipython3",
   "version": "3.10.14"
  }
 },
 "nbformat": 4,
 "nbformat_minor": 2
}
